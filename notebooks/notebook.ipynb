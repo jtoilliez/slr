{
 "cells": [
  {
   "cell_type": "markdown",
   "metadata": {},
   "source": [
    "# Tutorial on `slr`, the Sea Level Rise Python Package\n",
    "\n",
    "## Purpose\n",
    "This simple tutorial is meant to cover 90% of cases where simple Sea Level Rise (SLR) figures are needed for engineering applications.\n",
    "\n",
    "## Assumptions\n",
    "This tutorial assumes that you were able to install the package, either directly from git or from the cloned repo on your local disk.\n",
    "\n",
    "## Settings"
   ]
  },
  {
   "cell_type": "code",
   "execution_count": 59,
   "metadata": {},
   "outputs": [
    {
     "data": {
      "text/plain": [
       "<module 'slr' from 'D:\\\\Documents\\\\03 Git (Local)\\\\slr\\\\src\\\\slr\\\\__init__.py'>"
      ]
     },
     "execution_count": 59,
     "metadata": {},
     "output_type": "execute_result"
    }
   ],
   "source": [
    "import slr\n",
    "import matplotlib.pyplot as plt\n",
    "import pandas as pd\n",
    "from importlib import reload\n",
    "reload(slr)"
   ]
  },
  {
   "cell_type": "markdown",
   "metadata": {},
   "source": [
    "## Display All Available Locations\n",
    "Here we want to display all locations where SLR information is available."
   ]
  },
  {
   "cell_type": "code",
   "execution_count": 6,
   "metadata": {},
   "outputs": [
    {
     "data": {
      "text/plain": [
       "['San Francisco', 'Los Angeles', 'Crescent City', 'San Diego']"
      ]
     },
     "execution_count": 6,
     "metadata": {},
     "output_type": "execute_result"
    }
   ],
   "source": [
    "slr.ALL_KEYS"
   ]
  },
  {
   "cell_type": "markdown",
   "metadata": {},
   "source": [
    "## Load a Local ScenarioPack\n",
    "Let's assume we'd like to work with a project site located next to San Francisco, CA. Let's load all available information for that location using the following command:"
   ]
  },
  {
   "cell_type": "code",
   "execution_count": 7,
   "metadata": {},
   "outputs": [],
   "source": [
    "sd = slr.ScenarioPack.from_location_or_key(\n",
    "    location_or_key='San Diego, CA'\n",
    ")"
   ]
  },
  {
   "cell_type": "markdown",
   "metadata": {},
   "source": [
    "The projections can easily be loaded and displayed in a familiar format:"
   ]
  },
  {
   "cell_type": "code",
   "execution_count": 8,
   "metadata": {},
   "outputs": [
    {
     "data": {
      "text/html": [
       "<div>\n",
       "<style scoped>\n",
       "    .dataframe tbody tr th:only-of-type {\n",
       "        vertical-align: middle;\n",
       "    }\n",
       "\n",
       "    .dataframe tbody tr th {\n",
       "        vertical-align: top;\n",
       "    }\n",
       "\n",
       "    .dataframe thead th {\n",
       "        text-align: right;\n",
       "    }\n",
       "</style>\n",
       "<table border=\"1\" class=\"dataframe\">\n",
       "  <thead>\n",
       "    <tr style=\"text-align: right;\">\n",
       "      <th></th>\n",
       "      <th>Low Risk, 83.00% [ft]</th>\n",
       "      <th>Medium Risk, 99.50% [ft]</th>\n",
       "      <th>Extreme Risk, nan% [ft]</th>\n",
       "    </tr>\n",
       "    <tr>\n",
       "      <th>Year (baseline: 2000)</th>\n",
       "      <th></th>\n",
       "      <th></th>\n",
       "      <th></th>\n",
       "    </tr>\n",
       "  </thead>\n",
       "  <tbody>\n",
       "    <tr>\n",
       "      <th>2030</th>\n",
       "      <td>0.6</td>\n",
       "      <td>0.9</td>\n",
       "      <td>1.1</td>\n",
       "    </tr>\n",
       "    <tr>\n",
       "      <th>2040</th>\n",
       "      <td>0.9</td>\n",
       "      <td>1.3</td>\n",
       "      <td>1.8</td>\n",
       "    </tr>\n",
       "    <tr>\n",
       "      <th>2050</th>\n",
       "      <td>1.2</td>\n",
       "      <td>2.0</td>\n",
       "      <td>2.8</td>\n",
       "    </tr>\n",
       "    <tr>\n",
       "      <th>2060</th>\n",
       "      <td>1.6</td>\n",
       "      <td>2.7</td>\n",
       "      <td>3.9</td>\n",
       "    </tr>\n",
       "    <tr>\n",
       "      <th>2070</th>\n",
       "      <td>2.0</td>\n",
       "      <td>3.6</td>\n",
       "      <td>5.2</td>\n",
       "    </tr>\n",
       "    <tr>\n",
       "      <th>2080</th>\n",
       "      <td>2.5</td>\n",
       "      <td>4.6</td>\n",
       "      <td>6.7</td>\n",
       "    </tr>\n",
       "    <tr>\n",
       "      <th>2090</th>\n",
       "      <td>3.0</td>\n",
       "      <td>5.7</td>\n",
       "      <td>8.3</td>\n",
       "    </tr>\n",
       "    <tr>\n",
       "      <th>2100</th>\n",
       "      <td>3.6</td>\n",
       "      <td>7.0</td>\n",
       "      <td>10.2</td>\n",
       "    </tr>\n",
       "    <tr>\n",
       "      <th>2110</th>\n",
       "      <td>3.7</td>\n",
       "      <td>7.5</td>\n",
       "      <td>12.0</td>\n",
       "    </tr>\n",
       "    <tr>\n",
       "      <th>2120</th>\n",
       "      <td>4.3</td>\n",
       "      <td>8.8</td>\n",
       "      <td>14.3</td>\n",
       "    </tr>\n",
       "    <tr>\n",
       "      <th>2130</th>\n",
       "      <td>4.9</td>\n",
       "      <td>10.2</td>\n",
       "      <td>16.6</td>\n",
       "    </tr>\n",
       "    <tr>\n",
       "      <th>2140</th>\n",
       "      <td>5.4</td>\n",
       "      <td>11.7</td>\n",
       "      <td>19.2</td>\n",
       "    </tr>\n",
       "    <tr>\n",
       "      <th>2150</th>\n",
       "      <td>6.1</td>\n",
       "      <td>13.3</td>\n",
       "      <td>22.0</td>\n",
       "    </tr>\n",
       "  </tbody>\n",
       "</table>\n",
       "</div>"
      ],
      "text/plain": [
       "                       Low Risk, 83.00% [ft]  Medium Risk, 99.50% [ft]  \\\n",
       "Year (baseline: 2000)                                                    \n",
       "2030                                     0.6                       0.9   \n",
       "2040                                     0.9                       1.3   \n",
       "2050                                     1.2                       2.0   \n",
       "2060                                     1.6                       2.7   \n",
       "2070                                     2.0                       3.6   \n",
       "2080                                     2.5                       4.6   \n",
       "2090                                     3.0                       5.7   \n",
       "2100                                     3.6                       7.0   \n",
       "2110                                     3.7                       7.5   \n",
       "2120                                     4.3                       8.8   \n",
       "2130                                     4.9                      10.2   \n",
       "2140                                     5.4                      11.7   \n",
       "2150                                     6.1                      13.3   \n",
       "\n",
       "                       Extreme Risk, nan% [ft]  \n",
       "Year (baseline: 2000)                           \n",
       "2030                                       1.1  \n",
       "2040                                       1.8  \n",
       "2050                                       2.8  \n",
       "2060                                       3.9  \n",
       "2070                                       5.2  \n",
       "2080                                       6.7  \n",
       "2090                                       8.3  \n",
       "2100                                      10.2  \n",
       "2110                                      12.0  \n",
       "2120                                      14.3  \n",
       "2130                                      16.6  \n",
       "2140                                      19.2  \n",
       "2150                                      22.0  "
      ]
     },
     "execution_count": 8,
     "metadata": {},
     "output_type": "execute_result"
    }
   ],
   "source": [
    "sd.dataframe"
   ]
  },
  {
   "cell_type": "markdown",
   "metadata": {},
   "source": [
    "It is possible that depending on project requirements or client preferences, specific units be desired. For that, the `.convert` method can be invoked:"
   ]
  },
  {
   "cell_type": "code",
   "execution_count": 9,
   "metadata": {},
   "outputs": [
    {
     "data": {
      "text/html": [
       "<div>\n",
       "<style scoped>\n",
       "    .dataframe tbody tr th:only-of-type {\n",
       "        vertical-align: middle;\n",
       "    }\n",
       "\n",
       "    .dataframe tbody tr th {\n",
       "        vertical-align: top;\n",
       "    }\n",
       "\n",
       "    .dataframe thead th {\n",
       "        text-align: right;\n",
       "    }\n",
       "</style>\n",
       "<table border=\"1\" class=\"dataframe\">\n",
       "  <thead>\n",
       "    <tr style=\"text-align: right;\">\n",
       "      <th></th>\n",
       "      <th>Low Risk, 83.00% [m]</th>\n",
       "      <th>Medium Risk, 99.50% [m]</th>\n",
       "      <th>Extreme Risk, nan% [m]</th>\n",
       "    </tr>\n",
       "    <tr>\n",
       "      <th>Year (baseline: 2000)</th>\n",
       "      <th></th>\n",
       "      <th></th>\n",
       "      <th></th>\n",
       "    </tr>\n",
       "  </thead>\n",
       "  <tbody>\n",
       "    <tr>\n",
       "      <th>2030</th>\n",
       "      <td>0.182871</td>\n",
       "      <td>0.274307</td>\n",
       "      <td>0.335264</td>\n",
       "    </tr>\n",
       "    <tr>\n",
       "      <th>2040</th>\n",
       "      <td>0.274307</td>\n",
       "      <td>0.396221</td>\n",
       "      <td>0.548613</td>\n",
       "    </tr>\n",
       "    <tr>\n",
       "      <th>2050</th>\n",
       "      <td>0.365742</td>\n",
       "      <td>0.609570</td>\n",
       "      <td>0.853398</td>\n",
       "    </tr>\n",
       "    <tr>\n",
       "      <th>2060</th>\n",
       "      <td>0.487656</td>\n",
       "      <td>0.822920</td>\n",
       "      <td>1.188662</td>\n",
       "    </tr>\n",
       "    <tr>\n",
       "      <th>2070</th>\n",
       "      <td>0.609570</td>\n",
       "      <td>1.097226</td>\n",
       "      <td>1.584883</td>\n",
       "    </tr>\n",
       "    <tr>\n",
       "      <th>2080</th>\n",
       "      <td>0.761963</td>\n",
       "      <td>1.402012</td>\n",
       "      <td>2.042060</td>\n",
       "    </tr>\n",
       "    <tr>\n",
       "      <th>2090</th>\n",
       "      <td>0.914355</td>\n",
       "      <td>1.737275</td>\n",
       "      <td>2.529717</td>\n",
       "    </tr>\n",
       "    <tr>\n",
       "      <th>2100</th>\n",
       "      <td>1.097226</td>\n",
       "      <td>2.133496</td>\n",
       "      <td>3.108808</td>\n",
       "    </tr>\n",
       "    <tr>\n",
       "      <th>2110</th>\n",
       "      <td>1.127705</td>\n",
       "      <td>2.285888</td>\n",
       "      <td>3.657422</td>\n",
       "    </tr>\n",
       "    <tr>\n",
       "      <th>2120</th>\n",
       "      <td>1.310576</td>\n",
       "      <td>2.682109</td>\n",
       "      <td>4.358427</td>\n",
       "    </tr>\n",
       "    <tr>\n",
       "      <th>2130</th>\n",
       "      <td>1.493447</td>\n",
       "      <td>3.108808</td>\n",
       "      <td>5.059433</td>\n",
       "    </tr>\n",
       "    <tr>\n",
       "      <th>2140</th>\n",
       "      <td>1.645840</td>\n",
       "      <td>3.565986</td>\n",
       "      <td>5.851874</td>\n",
       "    </tr>\n",
       "    <tr>\n",
       "      <th>2150</th>\n",
       "      <td>1.859189</td>\n",
       "      <td>4.053642</td>\n",
       "      <td>6.705273</td>\n",
       "    </tr>\n",
       "  </tbody>\n",
       "</table>\n",
       "</div>"
      ],
      "text/plain": [
       "                       Low Risk, 83.00% [m]  Medium Risk, 99.50% [m]  \\\n",
       "Year (baseline: 2000)                                                  \n",
       "2030                               0.182871                 0.274307   \n",
       "2040                               0.274307                 0.396221   \n",
       "2050                               0.365742                 0.609570   \n",
       "2060                               0.487656                 0.822920   \n",
       "2070                               0.609570                 1.097226   \n",
       "2080                               0.761963                 1.402012   \n",
       "2090                               0.914355                 1.737275   \n",
       "2100                               1.097226                 2.133496   \n",
       "2110                               1.127705                 2.285888   \n",
       "2120                               1.310576                 2.682109   \n",
       "2130                               1.493447                 3.108808   \n",
       "2140                               1.645840                 3.565986   \n",
       "2150                               1.859189                 4.053642   \n",
       "\n",
       "                       Extreme Risk, nan% [m]  \n",
       "Year (baseline: 2000)                          \n",
       "2030                                 0.335264  \n",
       "2040                                 0.548613  \n",
       "2050                                 0.853398  \n",
       "2060                                 1.188662  \n",
       "2070                                 1.584883  \n",
       "2080                                 2.042060  \n",
       "2090                                 2.529717  \n",
       "2100                                 3.108808  \n",
       "2110                                 3.657422  \n",
       "2120                                 4.358427  \n",
       "2130                                 5.059433  \n",
       "2140                                 5.851874  \n",
       "2150                                 6.705273  "
      ]
     },
     "execution_count": 9,
     "metadata": {},
     "output_type": "execute_result"
    }
   ],
   "source": [
    "sd.convert(to_units='m')"
   ]
  },
  {
   "cell_type": "code",
   "execution_count": 10,
   "metadata": {},
   "outputs": [
    {
     "data": {
      "text/plain": [
       "<AxesSubplot:title={'center':'SLR for San Diego, CA'}, ylabel='SLR [m]'>"
      ]
     },
     "execution_count": 10,
     "metadata": {},
     "output_type": "execute_result"
    },
    {
     "data": {
      "image/png": "[encoded data removed]",
      "text/plain": [
       "<Figure size 385.2x252 with 1 Axes>"
      ]
     },
     "metadata": {
      "needs_background": "light"
     },
     "output_type": "display_data"
    }
   ],
   "source": [
    "sd.plot()"
   ]
  },
  {
   "cell_type": "code",
   "execution_count": 13,
   "metadata": {},
   "outputs": [
    {
     "data": {
      "text/plain": [
       "<AxesSubplot:title={'center':'SLR for San Diego, CA'}, ylabel='SLR [m]'>"
      ]
     },
     "execution_count": 13,
     "metadata": {},
     "output_type": "execute_result"
    },
    {
     "data": {
      "image/png": "[encoded data removed]",
      "text/plain": [
       "<Figure size 385.2x252 with 1 Axes>"
      ]
     },
     "metadata": {
      "needs_background": "light"
     },
     "output_type": "display_data"
    }
   ],
   "source": [
    "sd.plot(horizon_year=2065)"
   ]
  },
  {
   "cell_type": "code",
   "execution_count": 14,
   "metadata": {},
   "outputs": [
    {
     "data": {
      "text/html": [
       "<div>\n",
       "<style scoped>\n",
       "    .dataframe tbody tr th:only-of-type {\n",
       "        vertical-align: middle;\n",
       "    }\n",
       "\n",
       "    .dataframe tbody tr th {\n",
       "        vertical-align: top;\n",
       "    }\n",
       "\n",
       "    .dataframe thead th {\n",
       "        text-align: right;\n",
       "    }\n",
       "</style>\n",
       "<table border=\"1\" class=\"dataframe\">\n",
       "  <thead>\n",
       "    <tr style=\"text-align: right;\">\n",
       "      <th></th>\n",
       "      <th>Low Risk, 83.00% [m]</th>\n",
       "      <th>Medium Risk, 99.50% [m]</th>\n",
       "      <th>Extreme Risk, nan% [m]</th>\n",
       "    </tr>\n",
       "    <tr>\n",
       "      <th>Year (baseline: 2000)</th>\n",
       "      <th></th>\n",
       "      <th></th>\n",
       "      <th></th>\n",
       "    </tr>\n",
       "  </thead>\n",
       "  <tbody>\n",
       "    <tr>\n",
       "      <th>2030</th>\n",
       "      <td>0.182871</td>\n",
       "      <td>0.274307</td>\n",
       "      <td>0.335264</td>\n",
       "    </tr>\n",
       "    <tr>\n",
       "      <th>2040</th>\n",
       "      <td>0.274307</td>\n",
       "      <td>0.396221</td>\n",
       "      <td>0.548613</td>\n",
       "    </tr>\n",
       "    <tr>\n",
       "      <th>2045</th>\n",
       "      <td>0.320024</td>\n",
       "      <td>0.502895</td>\n",
       "      <td>0.701006</td>\n",
       "    </tr>\n",
       "    <tr>\n",
       "      <th>2050</th>\n",
       "      <td>0.365742</td>\n",
       "      <td>0.609570</td>\n",
       "      <td>0.853398</td>\n",
       "    </tr>\n",
       "    <tr>\n",
       "      <th>2060</th>\n",
       "      <td>0.487656</td>\n",
       "      <td>0.822920</td>\n",
       "      <td>1.188662</td>\n",
       "    </tr>\n",
       "    <tr>\n",
       "      <th>2070</th>\n",
       "      <td>0.609570</td>\n",
       "      <td>1.097226</td>\n",
       "      <td>1.584883</td>\n",
       "    </tr>\n",
       "    <tr>\n",
       "      <th>2080</th>\n",
       "      <td>0.761963</td>\n",
       "      <td>1.402012</td>\n",
       "      <td>2.042060</td>\n",
       "    </tr>\n",
       "    <tr>\n",
       "      <th>2090</th>\n",
       "      <td>0.914355</td>\n",
       "      <td>1.737275</td>\n",
       "      <td>2.529717</td>\n",
       "    </tr>\n",
       "    <tr>\n",
       "      <th>2100</th>\n",
       "      <td>1.097226</td>\n",
       "      <td>2.133496</td>\n",
       "      <td>3.108808</td>\n",
       "    </tr>\n",
       "    <tr>\n",
       "      <th>2110</th>\n",
       "      <td>1.127705</td>\n",
       "      <td>2.285888</td>\n",
       "      <td>3.657422</td>\n",
       "    </tr>\n",
       "    <tr>\n",
       "      <th>2120</th>\n",
       "      <td>1.310576</td>\n",
       "      <td>2.682109</td>\n",
       "      <td>4.358427</td>\n",
       "    </tr>\n",
       "    <tr>\n",
       "      <th>2130</th>\n",
       "      <td>1.493447</td>\n",
       "      <td>3.108808</td>\n",
       "      <td>5.059433</td>\n",
       "    </tr>\n",
       "    <tr>\n",
       "      <th>2140</th>\n",
       "      <td>1.645840</td>\n",
       "      <td>3.565986</td>\n",
       "      <td>5.851874</td>\n",
       "    </tr>\n",
       "    <tr>\n",
       "      <th>2150</th>\n",
       "      <td>1.859189</td>\n",
       "      <td>4.053642</td>\n",
       "      <td>6.705273</td>\n",
       "    </tr>\n",
       "  </tbody>\n",
       "</table>\n",
       "</div>"
      ],
      "text/plain": [
       "                       Low Risk, 83.00% [m]  Medium Risk, 99.50% [m]  \\\n",
       "Year (baseline: 2000)                                                  \n",
       "2030                               0.182871                 0.274307   \n",
       "2040                               0.274307                 0.396221   \n",
       "2045                               0.320024                 0.502895   \n",
       "2050                               0.365742                 0.609570   \n",
       "2060                               0.487656                 0.822920   \n",
       "2070                               0.609570                 1.097226   \n",
       "2080                               0.761963                 1.402012   \n",
       "2090                               0.914355                 1.737275   \n",
       "2100                               1.097226                 2.133496   \n",
       "2110                               1.127705                 2.285888   \n",
       "2120                               1.310576                 2.682109   \n",
       "2130                               1.493447                 3.108808   \n",
       "2140                               1.645840                 3.565986   \n",
       "2150                               1.859189                 4.053642   \n",
       "\n",
       "                       Extreme Risk, nan% [m]  \n",
       "Year (baseline: 2000)                          \n",
       "2030                                 0.335264  \n",
       "2040                                 0.548613  \n",
       "2045                                 0.701006  \n",
       "2050                                 0.853398  \n",
       "2060                                 1.188662  \n",
       "2070                                 1.584883  \n",
       "2080                                 2.042060  \n",
       "2090                                 2.529717  \n",
       "2100                                 3.108808  \n",
       "2110                                 3.657422  \n",
       "2120                                 4.358427  \n",
       "2130                                 5.059433  \n",
       "2140                                 5.851874  \n",
       "2150                                 6.705273  "
      ]
     },
     "execution_count": 14,
     "metadata": {},
     "output_type": "execute_result"
    }
   ],
   "source": [
    "sd.by_horizon_year(horizon_year=2045, merge=True)"
   ]
  },
  {
   "cell_type": "code",
   "execution_count": 15,
   "metadata": {},
   "outputs": [
    {
     "data": {
      "image/png": "[encoded data removed]",
      "text/plain": [
       "<Figure size 385.2x252 with 1 Axes>"
      ]
     },
     "metadata": {
      "needs_background": "light"
     },
     "output_type": "display_data"
    }
   ],
   "source": [
    "# Display a base figure using the builtin method\n",
    "ax = sd.plot(horizon_year=2075)\n",
    "# Highlight the specific Scenario item retained for design\n",
    "ax.plot(sd[1].data.x, sd[1].data.y, c='yellow', label='Selected for design', lw=10, alpha=.65)\n",
    "# Use the builtin class method to estimate SLR by the horizon year\n",
    "ax.axhline(y=sd[1].by_horizon_year(horizon_year=2075), c='k', ls='--', lw=1)\n",
    "# Update the legend\n",
    "plt.legend()\n",
    "plt.tight_layout()"
   ]
  },
  {
   "cell_type": "code",
   "execution_count": 49,
   "metadata": {},
   "outputs": [],
   "source": [
    "# Grab the value by a certain date, and display as a probability distribution;\n",
    "# useful when discussing probabilities with SLR projections.\n",
    "# Rarely useful in practice!\n",
    "dist_val = dict()\n",
    "for scenario_ in sd.scenarios:\n",
    "    dist_val[scenario_.short_name] = {   \n",
    "        \"value\" : scenario_.by_horizon_year(horizon_year=2065),\n",
    "        \"units\" : scenario_.units,\n",
    "        \"CDF\" : scenario_.probability\n",
    "    }\n",
    "df_dist = (\n",
    "    pd.DataFrame.from_dict(data=dist_val, orient='index')\n",
    "    .rename_axis(f'by {2065}', axis=1)\n",
    ")"
   ]
  },
  {
   "cell_type": "code",
   "execution_count": 52,
   "metadata": {},
   "outputs": [
    {
     "data": {
      "text/plain": [
       "'9410170'"
      ]
     },
     "execution_count": 52,
     "metadata": {},
     "output_type": "execute_result"
    }
   ],
   "source": [
    "# Other idea: get the information directly from the NOAA Station using the COOPS ID\n",
    "# Provide option to display the historical trend and superimpose projections\n",
    "# Could be useful.\n",
    "sd.station_ID"
   ]
  },
  {
   "cell_type": "code",
   "execution_count": 60,
   "metadata": {},
   "outputs": [],
   "source": [
    "from slr.connect import HistoricalSLR"
   ]
  },
  {
   "cell_type": "code",
   "execution_count": 61,
   "metadata": {},
   "outputs": [],
   "source": [
    "hslr = HistoricalSLR(station_ID=sd.station_ID, units='m')"
   ]
  },
  {
   "cell_type": "code",
   "execution_count": 63,
   "metadata": {},
   "outputs": [],
   "source": [
    "dat_ = hslr.historical_trend()"
   ]
  },
  {
   "cell_type": "code",
   "execution_count": 64,
   "metadata": {},
   "outputs": [
    {
     "data": {
      "text/plain": [
       "{'stationId': '9410170',\n",
       " 'stationName': 'San Diego, San Diego Bay, CA',\n",
       " 'affil': 'US',\n",
       " 'latitude': 32.714194,\n",
       " 'longitude': -117.173583,\n",
       " 'trend': 2.2,\n",
       " 'trendError': 0.09,\n",
       " 'units': 'mm/yr',\n",
       " 'startDate': '01/15/1906',\n",
       " 'endDate': '12/15/2020'}"
      ]
     },
     "execution_count": 64,
     "metadata": {},
     "output_type": "execute_result"
    }
   ],
   "source": [
    "dat_[0]"
   ]
  },
  {
   "cell_type": "code",
   "execution_count": null,
   "metadata": {},
   "outputs": [],
   "source": []
  }
 ],
 "metadata": {
  "interpreter": {
   "hash": "6b0b36384697e0de71b49289cb2d101e5fefeb37662dafdf850e407faf47a883"
  },
  "kernelspec": {
   "display_name": "Python 3.9.9 64-bit ('venv': venv)",
   "language": "python",
   "name": "python3"
  },
  "language_info": {
   "codemirror_mode": {
    "name": "ipython",
    "version": 3
   },
   "file_extension": ".py",
   "mimetype": "text/x-python",
   "name": "python",
   "nbconvert_exporter": "python",
   "pygments_lexer": "ipython3",
   "version": "3.9.9"
  },
  "orig_nbformat": 4
 },
 "nbformat": 4,
 "nbformat_minor": 2
}
