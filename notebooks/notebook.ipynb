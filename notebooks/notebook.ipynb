{
    "cells": [
        {
            "cell_type": "markdown",
            "metadata": {},
            "source": [
                "# Tutorial on `pysealevelrise`, the Sea Level Rise Python Package\n",
                "\n",
                "## Purpose\n",
                "This simple tutorial is meant to cover 90% of cases where simple Sea Level Rise (SLR) figures are needed for engineering applications.\n",
                "\n",
                "## Assumptions\n",
                "This tutorial assumes that you were able to install the package, either directly from git or from the cloned repo on your local disk. The best way to install the package is into a virtual environment.\n",
                "\n",
                "## Settings"
            ]
        },
        {
            "cell_type": "code",
            "execution_count": 1,
            "metadata": {},
            "outputs": [],
            "source": [
                "import sealevelrise\n",
                "import matplotlib.pyplot as plt\n",
                "import pandas as pd\n",
                "from importlib import reload"
            ]
        },
        {
            "cell_type": "markdown",
            "metadata": {},
            "source": [
                "## Display All Available Locations\n",
                "Here we want to display all locations where SLR information is available.\n",
                "\n",
                "## Load a Set of SLRProjections\n",
                "Let's assume we'd like to work with a project site located next to North Spit, CA. Let's load all available information for that location using the following command:"
            ]
        },
        {
            "cell_type": "code",
            "execution_count": 2,
            "metadata": {},
            "outputs": [
                {
                    "data": {
                        "text/html": [
                            "<div>\n",
                            "<style scoped>\n",
                            "    .dataframe tbody tr th:only-of-type {\n",
                            "        vertical-align: middle;\n",
                            "    }\n",
                            "\n",
                            "    .dataframe tbody tr th {\n",
                            "        vertical-align: top;\n",
                            "    }\n",
                            "\n",
                            "    .dataframe thead th {\n",
                            "        text-align: right;\n",
                            "    }\n",
                            "</style>\n",
                            "<table border=\"1\" class=\"dataframe\">\n",
                            "  <thead>\n",
                            "    <tr style=\"text-align: right;\">\n",
                            "      <th></th>\n",
                            "      <th>Key</th>\n",
                            "      <th>Location(s) covered</th>\n",
                            "      <th>Issuer</th>\n",
                            "    </tr>\n",
                            "  </thead>\n",
                            "  <tbody>\n",
                            "    <tr>\n",
                            "      <th>0</th>\n",
                            "      <td>nj-dep-2021</td>\n",
                            "      <td>New Jersey</td>\n",
                            "      <td>New Jersey Department of Environmental Protection</td>\n",
                            "    </tr>\n",
                            "    <tr>\n",
                            "      <th>1</th>\n",
                            "      <td>cocat-2018-9414290</td>\n",
                            "      <td>San Francisco, CA</td>\n",
                            "      <td>California OPC 2018</td>\n",
                            "    </tr>\n",
                            "    <tr>\n",
                            "      <th>2</th>\n",
                            "      <td>cocat-2018-9410660</td>\n",
                            "      <td>Los Angeles, CA</td>\n",
                            "      <td>California OPC 2018</td>\n",
                            "    </tr>\n",
                            "    <tr>\n",
                            "      <th>3</th>\n",
                            "      <td>cocat-2018-9419750</td>\n",
                            "      <td>Crescent City, CA</td>\n",
                            "      <td>California OPC 2018</td>\n",
                            "    </tr>\n",
                            "    <tr>\n",
                            "      <th>4</th>\n",
                            "      <td>cocat-2018-9410170</td>\n",
                            "      <td>San Diego, CA</td>\n",
                            "      <td>California OPC 2018</td>\n",
                            "    </tr>\n",
                            "    <tr>\n",
                            "      <th>5</th>\n",
                            "      <td>cocat-2018-9418767</td>\n",
                            "      <td>North Spit, CA</td>\n",
                            "      <td>California OPC 2018</td>\n",
                            "    </tr>\n",
                            "    <tr>\n",
                            "      <th>6</th>\n",
                            "      <td>NPCC3-new-york-2019</td>\n",
                            "      <td>New York City</td>\n",
                            "      <td>The New York Academy of Sciences, New York Cit...</td>\n",
                            "    </tr>\n",
                            "  </tbody>\n",
                            "</table>\n",
                            "</div>"
                        ],
                        "text/plain": [
                            "                   Key Location(s) covered  \\\n",
                            "0          nj-dep-2021          New Jersey   \n",
                            "1   cocat-2018-9414290   San Francisco, CA   \n",
                            "2   cocat-2018-9410660     Los Angeles, CA   \n",
                            "3   cocat-2018-9419750   Crescent City, CA   \n",
                            "4   cocat-2018-9410170       San Diego, CA   \n",
                            "5   cocat-2018-9418767      North Spit, CA   \n",
                            "6  NPCC3-new-york-2019       New York City   \n",
                            "\n",
                            "                                              Issuer  \n",
                            "0  New Jersey Department of Environmental Protection  \n",
                            "1                                California OPC 2018  \n",
                            "2                                California OPC 2018  \n",
                            "3                                California OPC 2018  \n",
                            "4                                California OPC 2018  \n",
                            "5                                California OPC 2018  \n",
                            "6  The New York Academy of Sciences, New York Cit...  "
                        ]
                    },
                    "execution_count": 2,
                    "metadata": {},
                    "output_type": "execute_result"
                }
            ],
            "source": [
                "sealevelrise.SLRProjections.show_all_builtin_scenarios(format='dataframe')"
            ]
        },
        {
            "cell_type": "code",
            "execution_count": 3,
            "metadata": {},
            "outputs": [
                {
                    "data": {
                        "text/plain": [
                            "Sea level rise Projections for New York City issued by The New York Academy of Sciences, New York City Panel on Climate Change 2019 Report Executive Summary; there are 5 Scenario(s) available."
                        ]
                    },
                    "execution_count": 3,
                    "metadata": {},
                    "output_type": "execute_result"
                }
            ],
            "source": [
                "sealevelrise.BuiltinProjections(key='NPCC3-new-york-2019')"
            ]
        },
        {
            "cell_type": "code",
            "execution_count": 4,
            "metadata": {},
            "outputs": [],
            "source": [
                "nyc=sealevelrise.SLRProjections.from_builtin('NPCC3-new-york-2019')"
            ]
        },
        {
            "cell_type": "code",
            "execution_count": 5,
            "metadata": {},
            "outputs": [
                {
                    "data": {
                        "text/plain": [
                            "<AxesSubplot:title={'center':'SLR for New York City'}, ylabel='SLR [ft]'>"
                        ]
                    },
                    "execution_count": 5,
                    "metadata": {},
                    "output_type": "execute_result"
                },
                {
                    "data": {
                        "image/png": "[encoded data removed]",
                        "text/plain": [
                            "<Figure size 385.2x252 with 1 Axes>"
                        ]
                    },
                    "metadata": {
                        "needs_background": "light"
                    },
                    "output_type": "display_data"
                }
            ],
            "source": [
                "nyc.plot()"
            ]
        },
        {
            "cell_type": "markdown",
            "metadata": {},
            "source": [
                "The projections can easily be loaded and displayed in a familiar format:"
            ]
        },
        {
            "cell_type": "markdown",
            "metadata": {},
            "source": [
                "It is possible that depending on project requirements or client preferences, specific units be desired. For that, the `.convert` class method can be invoked:"
            ]
        },
        {
            "cell_type": "code",
            "execution_count": 7,
            "metadata": {},
            "outputs": [
                {
                    "data": {
                        "text/html": [
                            "<div>\n",
                            "<style scoped>\n",
                            "    .dataframe tbody tr th:only-of-type {\n",
                            "        vertical-align: middle;\n",
                            "    }\n",
                            "\n",
                            "    .dataframe tbody tr th {\n",
                            "        vertical-align: top;\n",
                            "    }\n",
                            "\n",
                            "    .dataframe thead th {\n",
                            "        text-align: right;\n",
                            "    }\n",
                            "</style>\n",
                            "<table border=\"1\" class=\"dataframe\">\n",
                            "  <thead>\n",
                            "    <tr style=\"text-align: right;\">\n",
                            "      <th></th>\n",
                            "      <th>Low end, 5.00% [mm]</th>\n",
                            "      <th>Lower end of the likely range, 17.00% [mm]</th>\n",
                            "      <th>Center of the likely range, 50.00% [mm]</th>\n",
                            "      <th>Upper end of the likely range, 83.00% [mm]</th>\n",
                            "      <th>High end, 95.00% [mm]</th>\n",
                            "    </tr>\n",
                            "    <tr>\n",
                            "      <th>Year (baseline: 2000)</th>\n",
                            "      <th></th>\n",
                            "      <th></th>\n",
                            "      <th></th>\n",
                            "      <th></th>\n",
                            "      <th></th>\n",
                            "    </tr>\n",
                            "  </thead>\n",
                            "  <tbody>\n",
                            "    <tr>\n",
                            "      <th>2000.0</th>\n",
                            "      <td>NaN</td>\n",
                            "      <td>NaN</td>\n",
                            "      <td>0.000000</td>\n",
                            "      <td>NaN</td>\n",
                            "      <td>NaN</td>\n",
                            "    </tr>\n",
                            "    <tr>\n",
                            "      <th>2010.0</th>\n",
                            "      <td>NaN</td>\n",
                            "      <td>NaN</td>\n",
                            "      <td>60.957025</td>\n",
                            "      <td>NaN</td>\n",
                            "      <td>NaN</td>\n",
                            "    </tr>\n",
                            "    <tr>\n",
                            "      <th>2020.0</th>\n",
                            "      <td>30.478513</td>\n",
                            "      <td>91.435538</td>\n",
                            "      <td>152.392563</td>\n",
                            "      <td>213.349589</td>\n",
                            "      <td>274.306614</td>\n",
                            "    </tr>\n",
                            "    <tr>\n",
                            "      <th>2030.0</th>\n",
                            "      <td>91.435538</td>\n",
                            "      <td>152.392563</td>\n",
                            "      <td>243.828101</td>\n",
                            "      <td>335.263639</td>\n",
                            "      <td>396.220664</td>\n",
                            "    </tr>\n",
                            "    <tr>\n",
                            "      <th>2040.0</th>\n",
                            "      <td>152.392563</td>\n",
                            "      <td>213.349589</td>\n",
                            "      <td>335.263639</td>\n",
                            "      <td>457.177690</td>\n",
                            "      <td>579.091740</td>\n",
                            "    </tr>\n",
                            "    <tr>\n",
                            "      <th>2050.0</th>\n",
                            "      <td>213.349589</td>\n",
                            "      <td>274.306614</td>\n",
                            "      <td>426.699177</td>\n",
                            "      <td>640.048766</td>\n",
                            "      <td>792.441329</td>\n",
                            "    </tr>\n",
                            "    <tr>\n",
                            "      <th>2060.0</th>\n",
                            "      <td>243.828101</td>\n",
                            "      <td>365.742152</td>\n",
                            "      <td>548.613228</td>\n",
                            "      <td>761.962816</td>\n",
                            "      <td>944.833892</td>\n",
                            "    </tr>\n",
                            "    <tr>\n",
                            "      <th>2070.0</th>\n",
                            "      <td>304.785126</td>\n",
                            "      <td>426.699177</td>\n",
                            "      <td>670.527278</td>\n",
                            "      <td>944.833892</td>\n",
                            "      <td>1158.183481</td>\n",
                            "    </tr>\n",
                            "    <tr>\n",
                            "      <th>2080.0</th>\n",
                            "      <td>335.263639</td>\n",
                            "      <td>487.656202</td>\n",
                            "      <td>792.441329</td>\n",
                            "      <td>1158.183481</td>\n",
                            "      <td>1462.968607</td>\n",
                            "    </tr>\n",
                            "    <tr>\n",
                            "      <th>2090.0</th>\n",
                            "      <td>365.742152</td>\n",
                            "      <td>548.613228</td>\n",
                            "      <td>914.355379</td>\n",
                            "      <td>1341.054557</td>\n",
                            "      <td>1767.753734</td>\n",
                            "    </tr>\n",
                            "    <tr>\n",
                            "      <th>2100.0</th>\n",
                            "      <td>396.220664</td>\n",
                            "      <td>609.570253</td>\n",
                            "      <td>1005.790917</td>\n",
                            "      <td>1554.404145</td>\n",
                            "      <td>2103.017373</td>\n",
                            "    </tr>\n",
                            "    <tr>\n",
                            "      <th>2110.0</th>\n",
                            "      <td>487.656202</td>\n",
                            "      <td>701.005791</td>\n",
                            "      <td>1127.704968</td>\n",
                            "      <td>1737.275221</td>\n",
                            "      <td>2468.759525</td>\n",
                            "    </tr>\n",
                            "    <tr>\n",
                            "      <th>2120.0</th>\n",
                            "      <td>487.656202</td>\n",
                            "      <td>731.484304</td>\n",
                            "      <td>1249.619019</td>\n",
                            "      <td>1950.624810</td>\n",
                            "      <td>2864.980189</td>\n",
                            "    </tr>\n",
                            "    <tr>\n",
                            "      <th>2130.0</th>\n",
                            "      <td>518.134715</td>\n",
                            "      <td>792.441329</td>\n",
                            "      <td>1371.533069</td>\n",
                            "      <td>2163.974398</td>\n",
                            "      <td>3322.157879</td>\n",
                            "    </tr>\n",
                            "    <tr>\n",
                            "      <th>2140.0</th>\n",
                            "      <td>579.091740</td>\n",
                            "      <td>883.876867</td>\n",
                            "      <td>1493.447120</td>\n",
                            "      <td>2346.845474</td>\n",
                            "      <td>3779.335568</td>\n",
                            "    </tr>\n",
                            "    <tr>\n",
                            "      <th>2150.0</th>\n",
                            "      <td>640.048766</td>\n",
                            "      <td>944.833892</td>\n",
                            "      <td>1584.882658</td>\n",
                            "      <td>2529.716550</td>\n",
                            "      <td>4206.034746</td>\n",
                            "    </tr>\n",
                            "  </tbody>\n",
                            "</table>\n",
                            "</div>"
                        ],
                        "text/plain": [
                            "                       Low end, 5.00% [mm]  \\\n",
                            "Year (baseline: 2000)                        \n",
                            "2000.0                                 NaN   \n",
                            "2010.0                                 NaN   \n",
                            "2020.0                           30.478513   \n",
                            "2030.0                           91.435538   \n",
                            "2040.0                          152.392563   \n",
                            "2050.0                          213.349589   \n",
                            "2060.0                          243.828101   \n",
                            "2070.0                          304.785126   \n",
                            "2080.0                          335.263639   \n",
                            "2090.0                          365.742152   \n",
                            "2100.0                          396.220664   \n",
                            "2110.0                          487.656202   \n",
                            "2120.0                          487.656202   \n",
                            "2130.0                          518.134715   \n",
                            "2140.0                          579.091740   \n",
                            "2150.0                          640.048766   \n",
                            "\n",
                            "                       Lower end of the likely range, 17.00% [mm]  \\\n",
                            "Year (baseline: 2000)                                               \n",
                            "2000.0                                                        NaN   \n",
                            "2010.0                                                        NaN   \n",
                            "2020.0                                                  91.435538   \n",
                            "2030.0                                                 152.392563   \n",
                            "2040.0                                                 213.349589   \n",
                            "2050.0                                                 274.306614   \n",
                            "2060.0                                                 365.742152   \n",
                            "2070.0                                                 426.699177   \n",
                            "2080.0                                                 487.656202   \n",
                            "2090.0                                                 548.613228   \n",
                            "2100.0                                                 609.570253   \n",
                            "2110.0                                                 701.005791   \n",
                            "2120.0                                                 731.484304   \n",
                            "2130.0                                                 792.441329   \n",
                            "2140.0                                                 883.876867   \n",
                            "2150.0                                                 944.833892   \n",
                            "\n",
                            "                       Center of the likely range, 50.00% [mm]  \\\n",
                            "Year (baseline: 2000)                                            \n",
                            "2000.0                                                0.000000   \n",
                            "2010.0                                               60.957025   \n",
                            "2020.0                                              152.392563   \n",
                            "2030.0                                              243.828101   \n",
                            "2040.0                                              335.263639   \n",
                            "2050.0                                              426.699177   \n",
                            "2060.0                                              548.613228   \n",
                            "2070.0                                              670.527278   \n",
                            "2080.0                                              792.441329   \n",
                            "2090.0                                              914.355379   \n",
                            "2100.0                                             1005.790917   \n",
                            "2110.0                                             1127.704968   \n",
                            "2120.0                                             1249.619019   \n",
                            "2130.0                                             1371.533069   \n",
                            "2140.0                                             1493.447120   \n",
                            "2150.0                                             1584.882658   \n",
                            "\n",
                            "                       Upper end of the likely range, 83.00% [mm]  \\\n",
                            "Year (baseline: 2000)                                               \n",
                            "2000.0                                                        NaN   \n",
                            "2010.0                                                        NaN   \n",
                            "2020.0                                                 213.349589   \n",
                            "2030.0                                                 335.263639   \n",
                            "2040.0                                                 457.177690   \n",
                            "2050.0                                                 640.048766   \n",
                            "2060.0                                                 761.962816   \n",
                            "2070.0                                                 944.833892   \n",
                            "2080.0                                                1158.183481   \n",
                            "2090.0                                                1341.054557   \n",
                            "2100.0                                                1554.404145   \n",
                            "2110.0                                                1737.275221   \n",
                            "2120.0                                                1950.624810   \n",
                            "2130.0                                                2163.974398   \n",
                            "2140.0                                                2346.845474   \n",
                            "2150.0                                                2529.716550   \n",
                            "\n",
                            "                       High end, 95.00% [mm]  \n",
                            "Year (baseline: 2000)                         \n",
                            "2000.0                                   NaN  \n",
                            "2010.0                                   NaN  \n",
                            "2020.0                            274.306614  \n",
                            "2030.0                            396.220664  \n",
                            "2040.0                            579.091740  \n",
                            "2050.0                            792.441329  \n",
                            "2060.0                            944.833892  \n",
                            "2070.0                           1158.183481  \n",
                            "2080.0                           1462.968607  \n",
                            "2090.0                           1767.753734  \n",
                            "2100.0                           2103.017373  \n",
                            "2110.0                           2468.759525  \n",
                            "2120.0                           2864.980189  \n",
                            "2130.0                           3322.157879  \n",
                            "2140.0                           3779.335568  \n",
                            "2150.0                           4206.034746  "
                        ]
                    },
                    "execution_count": 7,
                    "metadata": {},
                    "output_type": "execute_result"
                }
            ],
            "source": [
                "nj.convert(to_units=\"mm\")"
            ]
        },
        {
            "cell_type": "code",
            "execution_count": 16,
            "metadata": {},
            "outputs": [],
            "source": [
                "temp = nj.scenarios[1].data.y"
            ]
        },
        {
            "cell_type": "code",
            "execution_count": null,
            "metadata": {},
            "outputs": [],
            "source": [
                "np"
            ]
        },
        {
            "cell_type": "code",
            "execution_count": 3,
            "metadata": {},
            "outputs": [
                {
                    "data": {
                        "text/plain": [
                            "<AxesSubplot:title={'center':'SLR for North Spit, CA'}, ylabel='SLR [ft]'>"
                        ]
                    },
                    "execution_count": 3,
                    "metadata": {},
                    "output_type": "execute_result"
                },
                {
                    "data": {
                        "image/png": "[encoded data removed]",
                        "text/plain": [
                            "<Figure size 385.2x252 with 1 Axes>"
                        ]
                    },
                    "metadata": {
                        "needs_background": "light"
                    },
                    "output_type": "display_data"
                }
            ],
            "source": [
                "ns.plot(horizon_year=2027 + 50)"
            ]
        },
        {
            "cell_type": "code",
            "execution_count": 34,
            "metadata": {},
            "outputs": [
                {
                    "data": {
                        "image/png": "[encoded data removed]",
                        "text/plain": [
                            "<Figure size 385.2x252 with 1 Axes>"
                        ]
                    },
                    "metadata": {
                        "needs_background": "light"
                    },
                    "output_type": "display_data"
                }
            ],
            "source": [
                "horiz_year = 2027 + 50\n",
                "# Display a base figure using the builtin method\n",
                "ax = ns.plot(horizon_year=horiz_year)\n",
                "\n",
                "# Highlight the specific Scenario item retained for design\n",
                "ax.plot(ns[1].data.x, ns[1].data.y, c='yellow', label='Advised for design', lw=10, alpha=.65)\n",
                "\n",
                "# Use the builtin class method to estimate SLR by the horizon year\n",
                "ax.axhline(y=ns[0].by_horizon_year(horizon_year=horiz_year), c='lightgrey', ls='--', lw=1)\n",
                "ax.axhline(y=ns[1].by_horizon_year(horizon_year=horiz_year), c='k', ls='--', lw=1)\n",
                "ax.axhline(y=ns[2].by_horizon_year(horizon_year=horiz_year), c='lightgrey', ls='--', lw=1)\n",
                "\n",
                "# Adjust the time and projection axis ranges\n",
                "ax.set_xlim([2020, 2100])\n",
                "ax.set_ylim([0, 12])\n",
                "\n",
                "# Update the legend\n",
                "plt.legend()\n",
                "plt.tight_layout()\n",
                "\n",
                "plt.savefig('projections.png')"
            ]
        },
        {
            "cell_type": "code",
            "execution_count": 36,
            "metadata": {},
            "outputs": [
                {
                    "data": {
                        "text/plain": [
                            "Low Risk        2.75\n",
                            "Medium Risk     4.77\n",
                            "Extreme Risk    6.72\n",
                            "Name: SLR at North Spit, CA by 2077 [ft], dtype: float64"
                        ]
                    },
                    "execution_count": 36,
                    "metadata": {},
                    "output_type": "execute_result"
                }
            ],
            "source": [
                "ns.by_horizon_year(horizon_year=horiz_year, merge=False)"
            ]
        },
        {
            "cell_type": "code",
            "execution_count": 7,
            "metadata": {},
            "outputs": [],
            "source": [
                "# Grab the value by a certain date, and display as a probability distribution;\n",
                "# useful when discussing probabilities with SLR projections.\n",
                "# Rarely useful in practice!\n",
                "dist_val = dict()\n",
                "for scenario_ in ns.scenarios:\n",
                "    dist_val[scenario_.short_name] = {   \n",
                "        \"value\" : scenario_.by_horizon_year(horizon_year=horiz_year),\n",
                "        \"units\" : scenario_.units,\n",
                "        \"CDF\" : scenario_.probability\n",
                "    }\n",
                "df_dist = (\n",
                "    pd.DataFrame.from_dict(data=dist_val, orient='index')\n",
                "    .rename_axis(f'by {horiz_year}', axis=1)\n",
                ")"
            ]
        },
        {
            "cell_type": "code",
            "execution_count": 9,
            "metadata": {},
            "outputs": [],
            "source": [
                "hslr = sealevelrise.HistoricalSLR(station_ID=ns.station_ID, units='ft')"
            ]
        },
        {
            "cell_type": "code",
            "execution_count": 29,
            "metadata": {},
            "outputs": [
                {
                    "data": {
                        "text/html": [
                            "<div>\n",
                            "<style scoped>\n",
                            "    .dataframe tbody tr th:only-of-type {\n",
                            "        vertical-align: middle;\n",
                            "    }\n",
                            "\n",
                            "    .dataframe tbody tr th {\n",
                            "        vertical-align: top;\n",
                            "    }\n",
                            "\n",
                            "    .dataframe thead th {\n",
                            "        text-align: right;\n",
                            "    }\n",
                            "</style>\n",
                            "<table border=\"1\" class=\"dataframe\">\n",
                            "  <thead>\n",
                            "    <tr style=\"text-align: right;\">\n",
                            "      <th></th>\n",
                            "      <th>0</th>\n",
                            "    </tr>\n",
                            "  </thead>\n",
                            "  <tbody>\n",
                            "    <tr>\n",
                            "      <th>stationId</th>\n",
                            "      <td>9418767</td>\n",
                            "    </tr>\n",
                            "    <tr>\n",
                            "      <th>stationName</th>\n",
                            "      <td>North Spit, CA</td>\n",
                            "    </tr>\n",
                            "    <tr>\n",
                            "      <th>affil</th>\n",
                            "      <td>US</td>\n",
                            "    </tr>\n",
                            "    <tr>\n",
                            "      <th>latitude</th>\n",
                            "      <td>40.7663</td>\n",
                            "    </tr>\n",
                            "    <tr>\n",
                            "      <th>longitude</th>\n",
                            "      <td>-124.2172</td>\n",
                            "    </tr>\n",
                            "    <tr>\n",
                            "      <th>trend</th>\n",
                            "      <td>4.91</td>\n",
                            "    </tr>\n",
                            "    <tr>\n",
                            "      <th>trendError</th>\n",
                            "      <td>0.43</td>\n",
                            "    </tr>\n",
                            "    <tr>\n",
                            "      <th>units</th>\n",
                            "      <td>mm/yr</td>\n",
                            "    </tr>\n",
                            "    <tr>\n",
                            "      <th>startDate</th>\n",
                            "      <td>09/15/1977</td>\n",
                            "    </tr>\n",
                            "    <tr>\n",
                            "      <th>endDate</th>\n",
                            "      <td>12/15/2020</td>\n",
                            "    </tr>\n",
                            "  </tbody>\n",
                            "</table>\n",
                            "</div>"
                        ],
                        "text/plain": [
                            "                          0\n",
                            "stationId           9418767\n",
                            "stationName  North Spit, CA\n",
                            "affil                    US\n",
                            "latitude            40.7663\n",
                            "longitude         -124.2172\n",
                            "trend                  4.91\n",
                            "trendError             0.43\n",
                            "units                 mm/yr\n",
                            "startDate        09/15/1977\n",
                            "endDate          12/15/2020"
                        ]
                    },
                    "execution_count": 29,
                    "metadata": {},
                    "output_type": "execute_result"
                }
            ],
            "source": [
                "pd.DataFrame.from_dict(\n",
                "    data=hsealevelrise._data,\n",
                "    orient='index'\n",
                ")"
            ]
        }
    ],
    "metadata": {
        "interpreter": {
            "hash": "6b0b36384697e0de71b49289cb2d101e5fefeb37662dafdf850e407faf47a883"
        },
        "kernelspec": {
            "display_name": "Python 3.9.9 64-bit ('venv': venv)",
            "language": "python",
            "name": "python3"
        },
        "language_info": {
            "codemirror_mode": {
                "name": "ipython",
                "version": 3
            },
            "file_extension": ".py",
            "mimetype": "text/x-python",
            "name": "python",
            "nbconvert_exporter": "python",
            "pygments_lexer": "ipython3",
            "version": "3.9.9"
        },
        "orig_nbformat": 4
    },
    "nbformat": 4,
    "nbformat_minor": 2
}
