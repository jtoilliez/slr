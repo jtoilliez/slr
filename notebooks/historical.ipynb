{
 "cells": [
  {
   "cell_type": "code",
   "execution_count": 1,
   "metadata": {},
   "outputs": [],
   "source": [
    "from importlib import reload\n",
    "from slr import historical"
   ]
  },
  {
   "cell_type": "code",
   "execution_count": 39,
   "metadata": {},
   "outputs": [],
   "source": [
    "from slr import slrprojections\n",
    "from slr import utils\n",
    "from slr import visualize\n",
    "reload(visualize)\n",
    "reload(historical)\n",
    "reload(slrprojections)\n",
    "reload(utils)\n",
    "import matplotlib.pyplot as plt\n",
    "import pandas as pd"
   ]
  },
  {
   "cell_type": "code",
   "execution_count": 42,
   "metadata": {},
   "outputs": [
    {
     "data": {
      "image/png": "[encoded data removed]",
      "text/plain": [
       "<Figure size 432x288 with 1 Axes>"
      ]
     },
     "metadata": {
      "needs_background": "light"
     },
     "output_type": "display_data"
    }
   ],
   "source": [
    "visualize.HistoricalVsProjections(location=1)\n",
    "plt.tight_layout()"
   ]
  },
  {
   "cell_type": "code",
   "execution_count": 47,
   "metadata": {},
   "outputs": [
    {
     "data": {
      "text/plain": [
       "'9414290'"
      ]
     },
     "execution_count": 47,
     "metadata": {},
     "output_type": "execute_result"
    }
   ],
   "source": [
    "utils._validate_location(location=0)"
   ]
  },
  {
   "cell_type": "code",
   "execution_count": 13,
   "metadata": {},
   "outputs": [
    {
     "data": {
      "text/plain": [
       "Sea level rise Projections for Crescent City, CA issued by California OPC 2018; there are 3 Scenario(s) available."
      ]
     },
     "execution_count": 13,
     "metadata": {},
     "output_type": "execute_result"
    }
   ],
   "source": [
    "slrprojections.SLRProjections.from_location(location=\"9419750\")"
   ]
  },
  {
   "cell_type": "code",
   "execution_count": 16,
   "metadata": {},
   "outputs": [
    {
     "data": {
      "text/html": [
       "<div>\n",
       "<style scoped>\n",
       "    .dataframe tbody tr th:only-of-type {\n",
       "        vertical-align: middle;\n",
       "    }\n",
       "\n",
       "    .dataframe tbody tr th {\n",
       "        vertical-align: top;\n",
       "    }\n",
       "\n",
       "    .dataframe thead th {\n",
       "        text-align: right;\n",
       "    }\n",
       "</style>\n",
       "<table border=\"1\" class=\"dataframe\">\n",
       "  <thead>\n",
       "    <tr style=\"text-align: right;\">\n",
       "      <th></th>\n",
       "      <th>Low Risk, 83.00% [mm]</th>\n",
       "      <th>Medium Risk, 99.50% [mm]</th>\n",
       "      <th>Extreme Risk, nan% [mm]</th>\n",
       "    </tr>\n",
       "    <tr>\n",
       "      <th>Year (baseline: 2000)</th>\n",
       "      <th></th>\n",
       "      <th></th>\n",
       "      <th></th>\n",
       "    </tr>\n",
       "  </thead>\n",
       "  <tbody>\n",
       "    <tr>\n",
       "      <th>2030</th>\n",
       "      <td>91.435538</td>\n",
       "      <td>152.392563</td>\n",
       "      <td>243.828101</td>\n",
       "    </tr>\n",
       "    <tr>\n",
       "      <th>2040</th>\n",
       "      <td>121.914051</td>\n",
       "      <td>274.306614</td>\n",
       "      <td>426.699177</td>\n",
       "    </tr>\n",
       "    <tr>\n",
       "      <th>2050</th>\n",
       "      <td>213.349589</td>\n",
       "      <td>457.177690</td>\n",
       "      <td>701.005791</td>\n",
       "    </tr>\n",
       "    <tr>\n",
       "      <th>2060</th>\n",
       "      <td>274.306614</td>\n",
       "      <td>640.048766</td>\n",
       "      <td>1005.790917</td>\n",
       "    </tr>\n",
       "    <tr>\n",
       "      <th>2070</th>\n",
       "      <td>365.742152</td>\n",
       "      <td>853.398354</td>\n",
       "      <td>1371.533069</td>\n",
       "    </tr>\n",
       "    <tr>\n",
       "      <th>2080</th>\n",
       "      <td>487.656202</td>\n",
       "      <td>1127.704968</td>\n",
       "      <td>1798.232246</td>\n",
       "    </tr>\n",
       "    <tr>\n",
       "      <th>2090</th>\n",
       "      <td>609.570253</td>\n",
       "      <td>1432.490094</td>\n",
       "      <td>2255.409936</td>\n",
       "    </tr>\n",
       "    <tr>\n",
       "      <th>2100</th>\n",
       "      <td>761.962816</td>\n",
       "      <td>1798.232246</td>\n",
       "      <td>2834.501676</td>\n",
       "    </tr>\n",
       "    <tr>\n",
       "      <th>2110</th>\n",
       "      <td>761.962816</td>\n",
       "      <td>1889.667784</td>\n",
       "      <td>3352.636391</td>\n",
       "    </tr>\n",
       "    <tr>\n",
       "      <th>2120</th>\n",
       "      <td>914.355379</td>\n",
       "      <td>2255.409936</td>\n",
       "      <td>3992.685157</td>\n",
       "    </tr>\n",
       "    <tr>\n",
       "      <th>2130</th>\n",
       "      <td>1036.269430</td>\n",
       "      <td>2651.630600</td>\n",
       "      <td>4663.212435</td>\n",
       "    </tr>\n",
       "    <tr>\n",
       "      <th>2140</th>\n",
       "      <td>1188.661993</td>\n",
       "      <td>3078.329778</td>\n",
       "      <td>5425.175251</td>\n",
       "    </tr>\n",
       "    <tr>\n",
       "      <th>2150</th>\n",
       "      <td>1341.054557</td>\n",
       "      <td>3535.507467</td>\n",
       "      <td>6278.573606</td>\n",
       "    </tr>\n",
       "  </tbody>\n",
       "</table>\n",
       "</div>"
      ],
      "text/plain": [
       "                       Low Risk, 83.00% [mm]  Medium Risk, 99.50% [mm]  \\\n",
       "Year (baseline: 2000)                                                    \n",
       "2030                               91.435538                152.392563   \n",
       "2040                              121.914051                274.306614   \n",
       "2050                              213.349589                457.177690   \n",
       "2060                              274.306614                640.048766   \n",
       "2070                              365.742152                853.398354   \n",
       "2080                              487.656202               1127.704968   \n",
       "2090                              609.570253               1432.490094   \n",
       "2100                              761.962816               1798.232246   \n",
       "2110                              761.962816               1889.667784   \n",
       "2120                              914.355379               2255.409936   \n",
       "2130                             1036.269430               2651.630600   \n",
       "2140                             1188.661993               3078.329778   \n",
       "2150                             1341.054557               3535.507467   \n",
       "\n",
       "                       Extreme Risk, nan% [mm]  \n",
       "Year (baseline: 2000)                           \n",
       "2030                                243.828101  \n",
       "2040                                426.699177  \n",
       "2050                                701.005791  \n",
       "2060                               1005.790917  \n",
       "2070                               1371.533069  \n",
       "2080                               1798.232246  \n",
       "2090                               2255.409936  \n",
       "2100                               2834.501676  \n",
       "2110                               3352.636391  \n",
       "2120                               3992.685157  \n",
       "2130                               4663.212435  \n",
       "2140                               5425.175251  \n",
       "2150                               6278.573606  "
      ]
     },
     "execution_count": 16,
     "metadata": {},
     "output_type": "execute_result"
    }
   ],
   "source": [
    "sf = slrprojections.SLRProjections.from_location(location=\"9419750\")\n",
    "sf.convert(to_units='mm', inplace=True)"
   ]
  },
  {
   "cell_type": "code",
   "execution_count": 17,
   "metadata": {},
   "outputs": [],
   "source": [
    "hs = historical.HistoricalSLR.from_slrprojections(slrprojections=sf)"
   ]
  },
  {
   "cell_type": "code",
   "execution_count": 18,
   "metadata": {},
   "outputs": [
    {
     "data": {
      "image/png": "[encoded data removed]",
      "text/plain": [
       "<Figure size 432x288 with 1 Axes>"
      ]
     },
     "metadata": {
      "needs_background": "light"
     },
     "output_type": "display_data"
    }
   ],
   "source": [
    "# Build a linear trend as simpy as possible from the historical payload\n",
    "fig, ax = plt.subplots(1, 1)\n",
    "ax.plot(hs.timeseries.index.year, hs.timeseries.values)\n",
    "for scenario_ in sf.scenarios:\n",
    "    ax.plot(\n",
    "        scenario_.data.x,\n",
    "        scenario_.data.y\n",
    "    )"
   ]
  },
  {
   "cell_type": "code",
   "execution_count": null,
   "metadata": {},
   "outputs": [],
   "source": []
  }
 ],
 "metadata": {
  "interpreter": {
   "hash": "78c9a56300271a8432f23824db2c32fd6bf2938bb7bd2a766263dd8d89a3f088"
  },
  "kernelspec": {
   "display_name": "Python 3.9.9 64-bit ('venv': venv)",
   "language": "python",
   "name": "python3"
  },
  "language_info": {
   "codemirror_mode": {
    "name": "ipython",
    "version": 3
   },
   "file_extension": ".py",
   "mimetype": "text/x-python",
   "name": "python",
   "nbconvert_exporter": "python",
   "pygments_lexer": "ipython3",
   "version": "3.9.10"
  },
  "orig_nbformat": 4
 },
 "nbformat": 4,
 "nbformat_minor": 2
}
