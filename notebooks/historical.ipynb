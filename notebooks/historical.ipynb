{
 "cells": [
  {
   "cell_type": "code",
   "execution_count": 1,
   "metadata": {},
   "outputs": [],
   "source": [
    "from importlib import reload\n",
    "from slr import historical\n"
   ]
  },
  {
   "cell_type": "code",
   "execution_count": 2,
   "metadata": {},
   "outputs": [],
   "source": [
    "from slr import slrprojections\n",
    "from slr import utils\n",
    "reload(historical)\n",
    "reload(slrprojections)\n",
    "reload(utils)\n",
    "import matplotlib.pyplot as plt\n",
    "import pandas as pd"
   ]
  },
  {
   "cell_type": "code",
   "execution_count": 3,
   "metadata": {},
   "outputs": [
    {
     "data": {
      "text/plain": [
       "'San Francisco'"
      ]
     },
     "execution_count": 3,
     "metadata": {},
     "output_type": "execute_result"
    }
   ],
   "source": [
    "utils._validate_location(location=0)"
   ]
  },
  {
   "cell_type": "code",
   "execution_count": 4,
   "metadata": {},
   "outputs": [
    {
     "data": {
      "text/plain": [
       "Sea level rise at Los Angeles, CA; 3 Scenario(s) available"
      ]
     },
     "execution_count": 4,
     "metadata": {},
     "output_type": "execute_result"
    }
   ],
   "source": [
    "slrprojections.SLRProjections.from_location(location=\"9410660\")"
   ]
  },
  {
   "cell_type": "code",
   "execution_count": 6,
   "metadata": {},
   "outputs": [
    {
     "data": {
      "text/html": [
       "<div>\n",
       "<style scoped>\n",
       "    .dataframe tbody tr th:only-of-type {\n",
       "        vertical-align: middle;\n",
       "    }\n",
       "\n",
       "    .dataframe tbody tr th {\n",
       "        vertical-align: top;\n",
       "    }\n",
       "\n",
       "    .dataframe thead th {\n",
       "        text-align: right;\n",
       "    }\n",
       "</style>\n",
       "<table border=\"1\" class=\"dataframe\">\n",
       "  <thead>\n",
       "    <tr style=\"text-align: right;\">\n",
       "      <th></th>\n",
       "      <th>Low Risk, 83.00% [mm]</th>\n",
       "      <th>Medium Risk, 99.50% [mm]</th>\n",
       "      <th>Extreme Risk, nan% [mm]</th>\n",
       "    </tr>\n",
       "    <tr>\n",
       "      <th>Year (baseline: 2000)</th>\n",
       "      <th></th>\n",
       "      <th></th>\n",
       "      <th></th>\n",
       "    </tr>\n",
       "  </thead>\n",
       "  <tbody>\n",
       "    <tr>\n",
       "      <th>2030</th>\n",
       "      <td>152.392563</td>\n",
       "      <td>243.828101</td>\n",
       "      <td>304.785126</td>\n",
       "    </tr>\n",
       "    <tr>\n",
       "      <th>2040</th>\n",
       "      <td>243.828101</td>\n",
       "      <td>396.220664</td>\n",
       "      <td>548.613228</td>\n",
       "    </tr>\n",
       "    <tr>\n",
       "      <th>2050</th>\n",
       "      <td>335.263639</td>\n",
       "      <td>579.091740</td>\n",
       "      <td>822.919842</td>\n",
       "    </tr>\n",
       "    <tr>\n",
       "      <th>2060</th>\n",
       "      <td>457.177690</td>\n",
       "      <td>792.441329</td>\n",
       "      <td>1188.661993</td>\n",
       "    </tr>\n",
       "    <tr>\n",
       "      <th>2070</th>\n",
       "      <td>579.091740</td>\n",
       "      <td>1066.747943</td>\n",
       "      <td>1584.882658</td>\n",
       "    </tr>\n",
       "    <tr>\n",
       "      <th>2080</th>\n",
       "      <td>731.484304</td>\n",
       "      <td>1371.533069</td>\n",
       "      <td>2011.581835</td>\n",
       "    </tr>\n",
       "    <tr>\n",
       "      <th>2090</th>\n",
       "      <td>883.876867</td>\n",
       "      <td>1706.796708</td>\n",
       "      <td>2529.716550</td>\n",
       "    </tr>\n",
       "    <tr>\n",
       "      <th>2100</th>\n",
       "      <td>1036.269430</td>\n",
       "      <td>2103.017373</td>\n",
       "      <td>3108.808290</td>\n",
       "    </tr>\n",
       "  </tbody>\n",
       "</table>\n",
       "</div>"
      ],
      "text/plain": [
       "                       Low Risk, 83.00% [mm]  Medium Risk, 99.50% [mm]  \\\n",
       "Year (baseline: 2000)                                                    \n",
       "2030                              152.392563                243.828101   \n",
       "2040                              243.828101                396.220664   \n",
       "2050                              335.263639                579.091740   \n",
       "2060                              457.177690                792.441329   \n",
       "2070                              579.091740               1066.747943   \n",
       "2080                              731.484304               1371.533069   \n",
       "2090                              883.876867               1706.796708   \n",
       "2100                             1036.269430               2103.017373   \n",
       "\n",
       "                       Extreme Risk, nan% [mm]  \n",
       "Year (baseline: 2000)                           \n",
       "2030                                304.785126  \n",
       "2040                                548.613228  \n",
       "2050                                822.919842  \n",
       "2060                               1188.661993  \n",
       "2070                               1584.882658  \n",
       "2080                               2011.581835  \n",
       "2090                               2529.716550  \n",
       "2100                               3108.808290  "
      ]
     },
     "execution_count": 6,
     "metadata": {},
     "output_type": "execute_result"
    }
   ],
   "source": [
    "sf = slrprojections.SLRProjections.from_location(0)\n",
    "sf.convert(to_units='mm')"
   ]
  },
  {
   "cell_type": "code",
   "execution_count": 7,
   "metadata": {},
   "outputs": [],
   "source": [
    "hs = historical.HistoricalSLR.from_slrprojections(slrprojections=sf)"
   ]
  },
  {
   "cell_type": "code",
   "execution_count": 8,
   "metadata": {},
   "outputs": [
    {
     "data": {
      "image/png": "[encoded data removed]",
      "text/plain": [
       "<Figure size 432x288 with 1 Axes>"
      ]
     },
     "metadata": {
      "needs_background": "light"
     },
     "output_type": "display_data"
    }
   ],
   "source": [
    "# Build a linear trend as simpy as possible from the historical payload\n",
    "fig, ax = plt.subplots(1, 1)\n",
    "ax.plot(hs.timeseries.index.year, hs.timeseries.values)\n",
    "for scenario_ in sf.scenarios:\n",
    "    ax.plot(\n",
    "        scenario_.data.x,\n",
    "        scenario_.data.y\n",
    "    )"
   ]
  },
  {
   "cell_type": "code",
   "execution_count": null,
   "metadata": {},
   "outputs": [],
   "source": []
  }
 ],
 "metadata": {
  "interpreter": {
   "hash": "78c9a56300271a8432f23824db2c32fd6bf2938bb7bd2a766263dd8d89a3f088"
  },
  "kernelspec": {
   "display_name": "Python 3.9.9 64-bit ('venv': venv)",
   "language": "python",
   "name": "python3"
  },
  "language_info": {
   "codemirror_mode": {
    "name": "ipython",
    "version": 3
   },
   "file_extension": ".py",
   "mimetype": "text/x-python",
   "name": "python",
   "nbconvert_exporter": "python",
   "pygments_lexer": "ipython3",
   "version": "3.9.9"
  },
  "orig_nbformat": 4
 },
 "nbformat": 4,
 "nbformat_minor": 2
}
